{
 "cells": [
  {
   "cell_type": "code",
   "execution_count": 1,
   "metadata": {},
   "outputs": [],
   "source": [
    "import pandas as pd\n",
    "import numpy as np\n",
    "import re\n",
    "\n",
    "# Gensim\n",
    "import gensim\n",
    "from gensim import corpora, models\n",
    "from gensim.utils import simple_preprocess\n",
    "from gensim.models import CoherenceModel\n",
    "from gensim.parsing.preprocessing import STOPWORDS\n",
    "from nltk.stem import WordNetLemmatizer, SnowballStemmer\n",
    "from nltk.stem.porter import *\n",
    "import numpy as np\n",
    "np.random.seed(2018)\n",
    "\n",
    "\n",
    "\n",
    "import logging\n",
    "logging.basicConfig(format='%(asctime)s : %(levelname)s : %(message)s', level=logging.ERROR)\n",
    "\n",
    "import warnings\n",
    "warnings.filterwarnings(\"ignore\",category=DeprecationWarning)"
   ]
  },
  {
   "cell_type": "code",
   "execution_count": 3,
   "metadata": {},
   "outputs": [],
   "source": [
    "# Load Data\n",
    "data = pd.read_csv('abcnews-date-text.csv', error_bad_lines=False);\n",
    "data_text = data[['headline_text']]\n",
    "data_text['index'] = data_text.index\n",
    "documents = data_text"
   ]
  },
  {
   "cell_type": "code",
   "execution_count": 4,
   "metadata": {},
   "outputs": [],
   "source": [
    "#  lemmatize dan stem preprocessing \n",
    "stemmer = SnowballStemmer(language='english',ignore_stopwords=True)\n",
    "def lemmatize_stemming(text):\n",
    "    return stemmer.stem(WordNetLemmatizer().lemmatize(text, pos='v'))\n",
    "def preprocess(text):\n",
    "    result = []\n",
    "    for token in gensim.utils.simple_preprocess(text):\n",
    "        if token not in gensim.parsing.preprocessing.STOPWORDS and len(token) > 3:\n",
    "            result.append(lemmatize_stemming(token))\n",
    "    return result"
   ]
  },
  {
   "cell_type": "code",
   "execution_count": 5,
   "metadata": {},
   "outputs": [
    {
     "data": {
      "text/plain": [
       "0            [decid, communiti, broadcast, licenc]\n",
       "1                               [wit, awar, defam]\n",
       "2           [call, infrastructur, protect, summit]\n",
       "3                      [staff, aust, strike, rise]\n",
       "4             [strike, affect, australian, travel]\n",
       "5               [ambiti, olsson, win, tripl, jump]\n",
       "6           [antic, delight, record, break, barca]\n",
       "7    [aussi, qualifi, stosur, wast, memphi, match]\n",
       "8            [aust, address, secur, council, iraq]\n",
       "9                         [australia, lock, timet]\n",
       "Name: headline_text, dtype: object"
      ]
     },
     "execution_count": 5,
     "metadata": {},
     "output_type": "execute_result"
    }
   ],
   "source": [
    "# Preprocess  headline text, lalu simpan ke‘processed_docs’\n",
    "processed_docs = documents['headline_text'].map(preprocess)\n",
    "processed_docs.head(10)"
   ]
  },
  {
   "cell_type": "code",
   "execution_count": 6,
   "metadata": {},
   "outputs": [
    {
     "name": "stdout",
     "output_type": "stream",
     "text": [
      "0 broadcast\n",
      "1 communiti\n",
      "2 decid\n",
      "3 licenc\n",
      "4 awar\n",
      "5 defam\n",
      "6 wit\n",
      "7 call\n",
      "8 infrastructur\n",
      "9 protect\n",
      "10 summit\n"
     ]
    }
   ],
   "source": [
    "dictionary = gensim.corpora.Dictionary(processed_docs)\n",
    "count = 0\n",
    "for k, v in dictionary.iteritems():\n",
    "    print(k, v)\n",
    "    count += 1\n",
    "    if count > 10:\n",
    "        break"
   ]
  },
  {
   "cell_type": "code",
   "execution_count": 7,
   "metadata": {},
   "outputs": [],
   "source": [
    "dictionary.filter_extremes(no_below=15, no_above=0.5, keep_n=100000)"
   ]
  },
  {
   "cell_type": "code",
   "execution_count": 8,
   "metadata": {},
   "outputs": [
    {
     "data": {
      "text/plain": [
       "[(162, 1), (240, 1), (292, 1), (589, 1), (838, 1), (3570, 1), (3571, 1)]"
      ]
     },
     "execution_count": 8,
     "metadata": {},
     "output_type": "execute_result"
    }
   ],
   "source": [
    "bow_corpus = [dictionary.doc2bow(doc) for doc in processed_docs]\n",
    "bow_corpus[4310]"
   ]
  },
  {
   "cell_type": "code",
   "execution_count": 9,
   "metadata": {},
   "outputs": [
    {
     "name": "stdout",
     "output_type": "stream",
     "text": [
      "Word 162 (\"govt\") appears 1 time.\n",
      "Word 240 (\"group\") appears 1 time.\n",
      "Word 292 (\"vote\") appears 1 time.\n",
      "Word 589 (\"local\") appears 1 time.\n",
      "Word 838 (\"want\") appears 1 time.\n",
      "Word 3570 (\"compulsori\") appears 1 time.\n",
      "Word 3571 (\"ratepay\") appears 1 time.\n"
     ]
    }
   ],
   "source": [
    "# Preview Bag Of Words \n",
    "bow_doc_4310 = bow_corpus[4310]\n",
    "for i in range(len(bow_doc_4310)):\n",
    "    print(\"Word {} (\\\"{}\\\") appears {} time.\".format(bow_doc_4310[i][0], \n",
    "                                               dictionary[bow_doc_4310[i][0]], \n",
    "bow_doc_4310[i][1]))"
   ]
  },
  {
   "cell_type": "code",
   "execution_count": 10,
   "metadata": {},
   "outputs": [
    {
     "name": "stdout",
     "output_type": "stream",
     "text": [
      "[(0, 0.5842699484464488), (1, 0.38798859072167835), (2, 0.5008422243250992), (3, 0.5071987254965034)]\n"
     ]
    }
   ],
   "source": [
    "tfidf = models.TfidfModel(bow_corpus)\n",
    "corpus_tfidf = tfidf[bow_corpus]\n",
    "for doc in corpus_tfidf:\n",
    "    print(doc)\n",
    "    break"
   ]
  },
  {
   "cell_type": "code",
   "execution_count": 11,
   "metadata": {},
   "outputs": [],
   "source": [
    "# proses training\n",
    "lda_model = gensim.models.LdaMulticore(bow_corpus, num_topics=10, id2word=dictionary, passes=2, workers=2)"
   ]
  },
  {
   "cell_type": "code",
   "execution_count": 12,
   "metadata": {
    "scrolled": true
   },
   "outputs": [
    {
     "name": "stdout",
     "output_type": "stream",
     "text": [
      "Topic: 0 \n",
      "Words: 0.026*\"death\" + 0.025*\"charg\" + 0.025*\"case\" + 0.025*\"court\" + 0.021*\"murder\" + 0.020*\"polic\" + 0.015*\"alleg\" + 0.013*\"trial\" + 0.012*\"arrest\" + 0.012*\"face\"\n",
      "Topic: 1 \n",
      "Words: 0.022*\"news\" + 0.020*\"market\" + 0.017*\"world\" + 0.017*\"women\" + 0.015*\"final\" + 0.015*\"australian\" + 0.014*\"island\" + 0.012*\"return\" + 0.011*\"street\" + 0.010*\"fall\"\n",
      "Topic: 2 \n",
      "Words: 0.051*\"coronavirus\" + 0.029*\"covid\" + 0.024*\"live\" + 0.021*\"nation\" + 0.021*\"coast\" + 0.016*\"restrict\" + 0.014*\"water\" + 0.013*\"gold\" + 0.011*\"plan\" + 0.010*\"park\"\n",
      "Topic: 3 \n",
      "Words: 0.038*\"sydney\" + 0.025*\"polic\" + 0.021*\"crash\" + 0.020*\"adelaid\" + 0.019*\"die\" + 0.015*\"miss\" + 0.012*\"break\" + 0.011*\"drug\" + 0.011*\"driver\" + 0.010*\"shoot\"\n",
      "Topic: 4 \n",
      "Words: 0.037*\"year\" + 0.032*\"melbourn\" + 0.022*\"open\" + 0.021*\"canberra\" + 0.017*\"jail\" + 0.015*\"work\" + 0.014*\"high\" + 0.014*\"life\" + 0.013*\"interview\" + 0.013*\"offic\"\n",
      "Topic: 5 \n",
      "Words: 0.028*\"govern\" + 0.019*\"health\" + 0.019*\"school\" + 0.017*\"help\" + 0.016*\"chang\" + 0.015*\"coronavirus\" + 0.015*\"feder\" + 0.013*\"indigen\" + 0.012*\"state\" + 0.012*\"fund\"\n",
      "Topic: 6 \n",
      "Words: 0.070*\"australia\" + 0.044*\"trump\" + 0.024*\"donald\" + 0.017*\"elect\" + 0.016*\"border\" + 0.015*\"busi\" + 0.015*\"peopl\" + 0.014*\"accus\" + 0.013*\"say\" + 0.012*\"scott\"\n",
      "Topic: 7 \n",
      "Words: 0.042*\"queensland\" + 0.033*\"victoria\" + 0.022*\"bushfir\" + 0.022*\"hous\" + 0.014*\"time\" + 0.013*\"royal\" + 0.013*\"west\" + 0.012*\"price\" + 0.011*\"guilti\" + 0.011*\"commiss\"\n",
      "Topic: 8 \n",
      "Words: 0.030*\"china\" + 0.025*\"test\" + 0.020*\"south\" + 0.016*\"coronavirus\" + 0.013*\"north\" + 0.012*\"rural\" + 0.012*\"australian\" + 0.011*\"presid\" + 0.011*\"train\" + 0.011*\"minist\"\n",
      "Topic: 9 \n",
      "Words: 0.024*\"call\" + 0.024*\"tasmania\" + 0.020*\"rise\" + 0.019*\"victorian\" + 0.017*\"morrison\" + 0.016*\"tasmanian\" + 0.015*\"million\" + 0.015*\"farm\" + 0.011*\"claim\" + 0.011*\"program\"\n"
     ]
    }
   ],
   "source": [
    "# Menampilkan Tiap topic\n",
    "for idx, topic in lda_model.print_topics(-1):\n",
    "    print('Topic: {} \\nWords: {}'.format(idx, topic))"
   ]
  },
  {
   "cell_type": "code",
   "execution_count": null,
   "metadata": {},
   "outputs": [],
   "source": [
    "\n"
   ]
  }
 ],
 "metadata": {
  "kernelspec": {
   "display_name": "Python 3",
   "language": "python",
   "name": "python3"
  },
  "language_info": {
   "codemirror_mode": {
    "name": "ipython",
    "version": 3
   },
   "file_extension": ".py",
   "mimetype": "text/x-python",
   "name": "python",
   "nbconvert_exporter": "python",
   "pygments_lexer": "ipython3",
   "version": "3.7.7"
  }
 },
 "nbformat": 4,
 "nbformat_minor": 4
}
